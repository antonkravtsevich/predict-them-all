{
 "cells": [
  {
   "cell_type": "code",
   "execution_count": 91,
   "metadata": {},
   "outputs": [],
   "source": [
    "import pandas as pd\n",
    "import numpy as np\n",
    "import matplotlib.pyplot as plt\n",
    "import seaborn as sns\n",
    "from tqdm import tqdm\n",
    "import pickle\n",
    "from sklearn.model_selection import train_test_split"
   ]
  },
  {
   "cell_type": "code",
   "execution_count": 52,
   "metadata": {},
   "outputs": [],
   "source": [
    "pokemons = pd.read_csv('./data/pokemon.csv', index_col='#')\n",
    "combats = pd.read_csv('./data/combats.csv')"
   ]
  },
  {
   "cell_type": "code",
   "execution_count": 53,
   "metadata": {},
   "outputs": [
    {
     "name": "stdout",
     "output_type": "stream",
     "text": [
      "Количество покемонов: 800\n"
     ]
    }
   ],
   "source": [
    "print('Количество покемонов: {}'.format(len(pokemons)))"
   ]
  },
  {
   "cell_type": "code",
   "execution_count": 54,
   "metadata": {},
   "outputs": [
    {
     "name": "stdout",
     "output_type": "stream",
     "text": [
      "Количество битв: 50000\n"
     ]
    }
   ],
   "source": [
    "print('Количество битв: {}'.format(len(combats)))"
   ]
  },
  {
   "cell_type": "markdown",
   "metadata": {},
   "source": [
    "Информация о датасете"
   ]
  },
  {
   "cell_type": "code",
   "execution_count": 55,
   "metadata": {},
   "outputs": [
    {
     "name": "stdout",
     "output_type": "stream",
     "text": [
      "<class 'pandas.core.frame.DataFrame'>\n",
      "Int64Index: 800 entries, 1 to 800\n",
      "Data columns (total 11 columns):\n",
      "Name          799 non-null object\n",
      "Type 1        800 non-null object\n",
      "Type 2        414 non-null object\n",
      "HP            800 non-null int64\n",
      "Attack        800 non-null int64\n",
      "Defense       800 non-null int64\n",
      "Sp. Atk       800 non-null int64\n",
      "Sp. Def       800 non-null int64\n",
      "Speed         800 non-null int64\n",
      "Generation    800 non-null int64\n",
      "Legendary     800 non-null bool\n",
      "dtypes: bool(1), int64(7), object(3)\n",
      "memory usage: 60.2+ KB\n"
     ]
    }
   ],
   "source": [
    "pokemons.info()"
   ]
  },
  {
   "cell_type": "code",
   "execution_count": 56,
   "metadata": {},
   "outputs": [
    {
     "data": {
      "text/html": [
       "<div>\n",
       "<style scoped>\n",
       "    .dataframe tbody tr th:only-of-type {\n",
       "        vertical-align: middle;\n",
       "    }\n",
       "\n",
       "    .dataframe tbody tr th {\n",
       "        vertical-align: top;\n",
       "    }\n",
       "\n",
       "    .dataframe thead th {\n",
       "        text-align: right;\n",
       "    }\n",
       "</style>\n",
       "<table border=\"1\" class=\"dataframe\">\n",
       "  <thead>\n",
       "    <tr style=\"text-align: right;\">\n",
       "      <th></th>\n",
       "      <th>Name</th>\n",
       "      <th>Type 1</th>\n",
       "      <th>Type 2</th>\n",
       "      <th>HP</th>\n",
       "      <th>Attack</th>\n",
       "      <th>Defense</th>\n",
       "      <th>Sp. Atk</th>\n",
       "      <th>Sp. Def</th>\n",
       "      <th>Speed</th>\n",
       "      <th>Generation</th>\n",
       "      <th>Legendary</th>\n",
       "    </tr>\n",
       "    <tr>\n",
       "      <th>#</th>\n",
       "      <th></th>\n",
       "      <th></th>\n",
       "      <th></th>\n",
       "      <th></th>\n",
       "      <th></th>\n",
       "      <th></th>\n",
       "      <th></th>\n",
       "      <th></th>\n",
       "      <th></th>\n",
       "      <th></th>\n",
       "      <th></th>\n",
       "    </tr>\n",
       "  </thead>\n",
       "  <tbody>\n",
       "    <tr>\n",
       "      <th>1</th>\n",
       "      <td>Bulbasaur</td>\n",
       "      <td>Grass</td>\n",
       "      <td>Poison</td>\n",
       "      <td>45</td>\n",
       "      <td>49</td>\n",
       "      <td>49</td>\n",
       "      <td>65</td>\n",
       "      <td>65</td>\n",
       "      <td>45</td>\n",
       "      <td>1</td>\n",
       "      <td>False</td>\n",
       "    </tr>\n",
       "    <tr>\n",
       "      <th>2</th>\n",
       "      <td>Ivysaur</td>\n",
       "      <td>Grass</td>\n",
       "      <td>Poison</td>\n",
       "      <td>60</td>\n",
       "      <td>62</td>\n",
       "      <td>63</td>\n",
       "      <td>80</td>\n",
       "      <td>80</td>\n",
       "      <td>60</td>\n",
       "      <td>1</td>\n",
       "      <td>False</td>\n",
       "    </tr>\n",
       "    <tr>\n",
       "      <th>3</th>\n",
       "      <td>Venusaur</td>\n",
       "      <td>Grass</td>\n",
       "      <td>Poison</td>\n",
       "      <td>80</td>\n",
       "      <td>82</td>\n",
       "      <td>83</td>\n",
       "      <td>100</td>\n",
       "      <td>100</td>\n",
       "      <td>80</td>\n",
       "      <td>1</td>\n",
       "      <td>False</td>\n",
       "    </tr>\n",
       "    <tr>\n",
       "      <th>4</th>\n",
       "      <td>Mega Venusaur</td>\n",
       "      <td>Grass</td>\n",
       "      <td>Poison</td>\n",
       "      <td>80</td>\n",
       "      <td>100</td>\n",
       "      <td>123</td>\n",
       "      <td>122</td>\n",
       "      <td>120</td>\n",
       "      <td>80</td>\n",
       "      <td>1</td>\n",
       "      <td>False</td>\n",
       "    </tr>\n",
       "    <tr>\n",
       "      <th>5</th>\n",
       "      <td>Charmander</td>\n",
       "      <td>Fire</td>\n",
       "      <td>NaN</td>\n",
       "      <td>39</td>\n",
       "      <td>52</td>\n",
       "      <td>43</td>\n",
       "      <td>60</td>\n",
       "      <td>50</td>\n",
       "      <td>65</td>\n",
       "      <td>1</td>\n",
       "      <td>False</td>\n",
       "    </tr>\n",
       "  </tbody>\n",
       "</table>\n",
       "</div>"
      ],
      "text/plain": [
       "            Name Type 1  Type 2  HP  Attack  Defense  Sp. Atk  Sp. Def  Speed  \\\n",
       "#                                                                               \n",
       "1      Bulbasaur  Grass  Poison  45      49       49       65       65     45   \n",
       "2        Ivysaur  Grass  Poison  60      62       63       80       80     60   \n",
       "3       Venusaur  Grass  Poison  80      82       83      100      100     80   \n",
       "4  Mega Venusaur  Grass  Poison  80     100      123      122      120     80   \n",
       "5     Charmander   Fire     NaN  39      52       43       60       50     65   \n",
       "\n",
       "   Generation  Legendary  \n",
       "#                         \n",
       "1           1      False  \n",
       "2           1      False  \n",
       "3           1      False  \n",
       "4           1      False  \n",
       "5           1      False  "
      ]
     },
     "execution_count": 56,
     "metadata": {},
     "output_type": "execute_result"
    }
   ],
   "source": [
    "pokemons.head()"
   ]
  },
  {
   "cell_type": "code",
   "execution_count": 57,
   "metadata": {},
   "outputs": [
    {
     "data": {
      "text/html": [
       "<div>\n",
       "<style scoped>\n",
       "    .dataframe tbody tr th:only-of-type {\n",
       "        vertical-align: middle;\n",
       "    }\n",
       "\n",
       "    .dataframe tbody tr th {\n",
       "        vertical-align: top;\n",
       "    }\n",
       "\n",
       "    .dataframe thead th {\n",
       "        text-align: right;\n",
       "    }\n",
       "</style>\n",
       "<table border=\"1\" class=\"dataframe\">\n",
       "  <thead>\n",
       "    <tr style=\"text-align: right;\">\n",
       "      <th></th>\n",
       "      <th>First_pokemon</th>\n",
       "      <th>Second_pokemon</th>\n",
       "      <th>Winner</th>\n",
       "    </tr>\n",
       "  </thead>\n",
       "  <tbody>\n",
       "    <tr>\n",
       "      <th>0</th>\n",
       "      <td>266</td>\n",
       "      <td>298</td>\n",
       "      <td>298</td>\n",
       "    </tr>\n",
       "    <tr>\n",
       "      <th>1</th>\n",
       "      <td>702</td>\n",
       "      <td>701</td>\n",
       "      <td>701</td>\n",
       "    </tr>\n",
       "    <tr>\n",
       "      <th>2</th>\n",
       "      <td>191</td>\n",
       "      <td>668</td>\n",
       "      <td>668</td>\n",
       "    </tr>\n",
       "    <tr>\n",
       "      <th>3</th>\n",
       "      <td>237</td>\n",
       "      <td>683</td>\n",
       "      <td>683</td>\n",
       "    </tr>\n",
       "    <tr>\n",
       "      <th>4</th>\n",
       "      <td>151</td>\n",
       "      <td>231</td>\n",
       "      <td>151</td>\n",
       "    </tr>\n",
       "  </tbody>\n",
       "</table>\n",
       "</div>"
      ],
      "text/plain": [
       "   First_pokemon  Second_pokemon  Winner\n",
       "0            266             298     298\n",
       "1            702             701     701\n",
       "2            191             668     668\n",
       "3            237             683     683\n",
       "4            151             231     151"
      ]
     },
     "execution_count": 57,
     "metadata": {},
     "output_type": "execute_result"
    }
   ],
   "source": [
    "combats.head()"
   ]
  },
  {
   "cell_type": "code",
   "execution_count": 197,
   "metadata": {},
   "outputs": [
    {
     "data": {
      "text/html": [
       "<div>\n",
       "<style scoped>\n",
       "    .dataframe tbody tr th:only-of-type {\n",
       "        vertical-align: middle;\n",
       "    }\n",
       "\n",
       "    .dataframe tbody tr th {\n",
       "        vertical-align: top;\n",
       "    }\n",
       "\n",
       "    .dataframe thead th {\n",
       "        text-align: right;\n",
       "    }\n",
       "</style>\n",
       "<table border=\"1\" class=\"dataframe\">\n",
       "  <thead>\n",
       "    <tr style=\"text-align: right;\">\n",
       "      <th></th>\n",
       "      <th>First_pokemon</th>\n",
       "      <th>Second_pokemon</th>\n",
       "      <th>Winner</th>\n",
       "    </tr>\n",
       "  </thead>\n",
       "  <tbody>\n",
       "    <tr>\n",
       "      <th>0</th>\n",
       "      <td>266</td>\n",
       "      <td>298</td>\n",
       "      <td>1</td>\n",
       "    </tr>\n",
       "    <tr>\n",
       "      <th>1</th>\n",
       "      <td>702</td>\n",
       "      <td>701</td>\n",
       "      <td>1</td>\n",
       "    </tr>\n",
       "    <tr>\n",
       "      <th>2</th>\n",
       "      <td>191</td>\n",
       "      <td>668</td>\n",
       "      <td>1</td>\n",
       "    </tr>\n",
       "    <tr>\n",
       "      <th>3</th>\n",
       "      <td>237</td>\n",
       "      <td>683</td>\n",
       "      <td>1</td>\n",
       "    </tr>\n",
       "    <tr>\n",
       "      <th>4</th>\n",
       "      <td>151</td>\n",
       "      <td>231</td>\n",
       "      <td>0</td>\n",
       "    </tr>\n",
       "  </tbody>\n",
       "</table>\n",
       "</div>"
      ],
      "text/plain": [
       "   First_pokemon  Second_pokemon  Winner\n",
       "0            266             298       1\n",
       "1            702             701       1\n",
       "2            191             668       1\n",
       "3            237             683       1\n",
       "4            151             231       0"
      ]
     },
     "execution_count": 197,
     "metadata": {},
     "output_type": "execute_result"
    }
   ],
   "source": [
    "combats.head()[[\"First_pokemon\", \"Second_pokemon\", \"Winner\"]]"
   ]
  },
  {
   "cell_type": "markdown",
   "metadata": {},
   "source": [
    "# Информация о данных"
   ]
  },
  {
   "cell_type": "markdown",
   "metadata": {},
   "source": [
    "### Набор данных 1 - информация о покемонах"
   ]
  },
  {
   "cell_type": "markdown",
   "metadata": {},
   "source": [
    "**Name** - Имя покемона <br>\n",
    "**Type 1** - Тип покемона <br>\n",
    "**Type 2** - Дополнительный тип покемона<br>\n",
    "**HP** - Количество здоровья<br>\n",
    "**Attack** - Сила атаки<br>\n",
    "**Defense** - Уровень защиты<br>\n",
    "**Sp. Atk** - Сила специальной атаки<br>\n",
    "**Sp. Def** - Уровень специальной защиты<br>\n",
    "**Speed** - Скорость<br>\n",
    "**Generation** - Поколение<br>\n",
    "**Legendary** - Легендарный или нет"
   ]
  },
  {
   "cell_type": "markdown",
   "metadata": {},
   "source": [
    "### Набор данных 2 - информация о битвах"
   ]
  },
  {
   "cell_type": "markdown",
   "metadata": {},
   "source": [
    "**First_pokemon** - Первый покемон, участвующий в битве <br>\n",
    "**Second_pokemon** - Второй покемон, участвующий в битве <br>\n",
    "**Winner** - Победитель<br>"
   ]
  },
  {
   "cell_type": "markdown",
   "metadata": {},
   "source": [
    "# Очистка данных"
   ]
  },
  {
   "cell_type": "markdown",
   "metadata": {},
   "source": [
    "### Удаляем пробелы в данных"
   ]
  },
  {
   "cell_type": "markdown",
   "metadata": {},
   "source": [
    "Количество пустых значений"
   ]
  },
  {
   "cell_type": "code",
   "execution_count": 58,
   "metadata": {},
   "outputs": [
    {
     "data": {
      "text/plain": [
       "Name            1\n",
       "Type 1          0\n",
       "Type 2        386\n",
       "HP              0\n",
       "Attack          0\n",
       "Defense         0\n",
       "Sp. Atk         0\n",
       "Sp. Def         0\n",
       "Speed           0\n",
       "Generation      0\n",
       "Legendary       0\n",
       "dtype: int64"
      ]
     },
     "execution_count": 58,
     "metadata": {},
     "output_type": "execute_result"
    }
   ],
   "source": [
    "pokemons.isnull().sum()"
   ]
  },
  {
   "cell_type": "markdown",
   "metadata": {},
   "source": [
    "Есть одна строка, в которой имя покемона пустое.\n",
    "Мы не можем восстановить эти данные, поэтому просто удаляем строку"
   ]
  },
  {
   "cell_type": "code",
   "execution_count": 59,
   "metadata": {},
   "outputs": [
    {
     "data": {
      "text/plain": [
       "Name            0\n",
       "Type 1          0\n",
       "Type 2        385\n",
       "HP              0\n",
       "Attack          0\n",
       "Defense         0\n",
       "Sp. Atk         0\n",
       "Sp. Def         0\n",
       "Speed           0\n",
       "Generation      0\n",
       "Legendary       0\n",
       "dtype: int64"
      ]
     },
     "execution_count": 59,
     "metadata": {},
     "output_type": "execute_result"
    }
   ],
   "source": [
    "pokemons = pokemons.dropna(subset=['Name'])\n",
    "pokemons.isnull().sum()"
   ]
  },
  {
   "cell_type": "markdown",
   "metadata": {},
   "source": [
    "Покемоны бывают разных типов\n",
    "\n",
    "У всех покемонов есть как минимум один тип, у некоторых есть второй\n",
    "\n",
    "Мы не можем просто удалить все строки с нулевым значением для Типа 2, т.к. их много, так что нам нужно заполнить пустые значения в столбце \"Type 2\""
   ]
  },
  {
   "cell_type": "code",
   "execution_count": 60,
   "metadata": {},
   "outputs": [],
   "source": [
    "pokemons = pokemons.fillna(value='None')"
   ]
  },
  {
   "cell_type": "code",
   "execution_count": 61,
   "metadata": {},
   "outputs": [
    {
     "data": {
      "text/plain": [
       "Name          0\n",
       "Type 1        0\n",
       "Type 2        0\n",
       "HP            0\n",
       "Attack        0\n",
       "Defense       0\n",
       "Sp. Atk       0\n",
       "Sp. Def       0\n",
       "Speed         0\n",
       "Generation    0\n",
       "Legendary     0\n",
       "dtype: int64"
      ]
     },
     "execution_count": 61,
     "metadata": {},
     "output_type": "execute_result"
    }
   ],
   "source": [
    "pokemons.isnull().sum()"
   ]
  },
  {
   "cell_type": "markdown",
   "metadata": {},
   "source": [
    "### Исправляем типы данных "
   ]
  },
  {
   "cell_type": "code",
   "execution_count": 62,
   "metadata": {},
   "outputs": [
    {
     "name": "stdout",
     "output_type": "stream",
     "text": [
      "<class 'pandas.core.frame.DataFrame'>\n",
      "Int64Index: 799 entries, 1 to 800\n",
      "Data columns (total 11 columns):\n",
      "Name          799 non-null object\n",
      "Type 1        799 non-null object\n",
      "Type 2        799 non-null object\n",
      "HP            799 non-null int64\n",
      "Attack        799 non-null int64\n",
      "Defense       799 non-null int64\n",
      "Sp. Atk       799 non-null int64\n",
      "Sp. Def       799 non-null int64\n",
      "Speed         799 non-null int64\n",
      "Generation    799 non-null int64\n",
      "Legendary     799 non-null bool\n",
      "dtypes: bool(1), int64(7), object(3)\n",
      "memory usage: 60.1+ KB\n"
     ]
    }
   ],
   "source": [
    "pokemons.info()"
   ]
  },
  {
   "cell_type": "markdown",
   "metadata": {},
   "source": [
    "Столбец **Legendary** имеет тип bool, который плохо подходит для предобработки\n",
    "\n",
    "Заменим его на бинарный тип (True -> 1, False -> 0)"
   ]
  },
  {
   "cell_type": "code",
   "execution_count": 63,
   "metadata": {},
   "outputs": [],
   "source": [
    "pokemons['Legendary'] = pokemons['Legendary'].astype(int)"
   ]
  },
  {
   "cell_type": "markdown",
   "metadata": {},
   "source": [
    "### Удаляем дубликаты покемонов"
   ]
  },
  {
   "cell_type": "markdown",
   "metadata": {},
   "source": [
    "Количество уникальных покемонов в наборе:"
   ]
  },
  {
   "cell_type": "code",
   "execution_count": 64,
   "metadata": {},
   "outputs": [
    {
     "data": {
      "text/plain": [
       "799"
      ]
     },
     "execution_count": 64,
     "metadata": {},
     "output_type": "execute_result"
    }
   ],
   "source": [
    "len(pokemons['Name'].unique())"
   ]
  },
  {
   "cell_type": "markdown",
   "metadata": {},
   "source": [
    "Дубликатов нет!"
   ]
  },
  {
   "cell_type": "markdown",
   "metadata": {},
   "source": [
    "# EDA"
   ]
  },
  {
   "cell_type": "markdown",
   "metadata": {},
   "source": [
    "Матрица корелляции (проверка зависимости между различными величинами)"
   ]
  },
  {
   "cell_type": "code",
   "execution_count": 65,
   "metadata": {},
   "outputs": [
    {
     "data": {
      "image/png": "[encoded data removed]",
      "text/plain": [
       "<Figure size 720x720 with 2 Axes>"
      ]
     },
     "metadata": {
      "needs_background": "light"
     },
     "output_type": "display_data"
    }
   ],
   "source": [
    "f,ax = plt.subplots(figsize=(10, 10))\n",
    "sns.heatmap(data=pokemons.corr(), annot=True, linewidths=.5, fmt= '.1f',ax=ax)\n",
    "plt.show()"
   ]
  },
  {
   "cell_type": "markdown",
   "metadata": {},
   "source": [
    "Распределение основных типов покемонов"
   ]
  },
  {
   "cell_type": "code",
   "execution_count": 66,
   "metadata": {},
   "outputs": [
    {
     "data": {
      "text/plain": [
       "[Text(0, 0, 'Grass'),\n",
       " Text(0, 0, 'Fire'),\n",
       " Text(0, 0, 'Water'),\n",
       " Text(0, 0, 'Bug'),\n",
       " Text(0, 0, 'Normal'),\n",
       " Text(0, 0, 'Poison'),\n",
       " Text(0, 0, 'Electric'),\n",
       " Text(0, 0, 'Ground'),\n",
       " Text(0, 0, 'Fairy'),\n",
       " Text(0, 0, 'Fighting'),\n",
       " Text(0, 0, 'Psychic'),\n",
       " Text(0, 0, 'Rock'),\n",
       " Text(0, 0, 'Ghost'),\n",
       " Text(0, 0, 'Ice'),\n",
       " Text(0, 0, 'Dragon'),\n",
       " Text(0, 0, 'Dark'),\n",
       " Text(0, 0, 'Steel'),\n",
       " Text(0, 0, 'Flying')]"
      ]
     },
     "execution_count": 66,
     "metadata": {},
     "output_type": "execute_result"
    },
    {
     "data": {
      "image/png": "[encoded data removed]",
      "text/plain": [
       "<Figure size 720x432 with 1 Axes>"
      ]
     },
     "metadata": {
      "needs_background": "light"
     },
     "output_type": "display_data"
    }
   ],
   "source": [
    "plt.subplots(figsize=(10, 6))\n",
    "cp = sns.countplot(x='Type 1', data=pokemons)\n",
    "_, labels = plt.xticks()\n",
    "cp.set_xticklabels(labels=labels, rotation=45)"
   ]
  },
  {
   "cell_type": "markdown",
   "metadata": {},
   "source": [
    "Распределение дополнительных типов покемонов"
   ]
  },
  {
   "cell_type": "code",
   "execution_count": 67,
   "metadata": {},
   "outputs": [
    {
     "data": {
      "text/plain": [
       "[Text(0, 0, 'Poison'),\n",
       " Text(0, 0, 'None'),\n",
       " Text(0, 0, 'Flying'),\n",
       " Text(0, 0, 'Dragon'),\n",
       " Text(0, 0, 'Ground'),\n",
       " Text(0, 0, 'Fairy'),\n",
       " Text(0, 0, 'Grass'),\n",
       " Text(0, 0, 'Fighting'),\n",
       " Text(0, 0, 'Psychic'),\n",
       " Text(0, 0, 'Steel'),\n",
       " Text(0, 0, 'Ice'),\n",
       " Text(0, 0, 'Rock'),\n",
       " Text(0, 0, 'Dark'),\n",
       " Text(0, 0, 'Water'),\n",
       " Text(0, 0, 'Electric'),\n",
       " Text(0, 0, 'Fire'),\n",
       " Text(0, 0, 'Ghost'),\n",
       " Text(0, 0, 'Bug'),\n",
       " Text(0, 0, 'Normal')]"
      ]
     },
     "execution_count": 67,
     "metadata": {},
     "output_type": "execute_result"
    },
    {
     "data": {
      "image/png": "[encoded data removed]",
      "text/plain": [
       "<Figure size 720x432 with 1 Axes>"
      ]
     },
     "metadata": {
      "needs_background": "light"
     },
     "output_type": "display_data"
    }
   ],
   "source": [
    "plt.subplots(figsize=(10, 6))\n",
    "cp = sns.countplot(x='Type 2', data=pokemons)\n",
    "_, labels = plt.xticks()\n",
    "cp.set_xticklabels(labels=labels, rotation=45)"
   ]
  },
  {
   "cell_type": "markdown",
   "metadata": {},
   "source": [
    "Графики распределния атаки и защиты"
   ]
  },
  {
   "cell_type": "code",
   "execution_count": 68,
   "metadata": {},
   "outputs": [
    {
     "data": {
      "image/png": "[encoded data removed]",
      "text/plain": [
       "<Figure size 432x288 with 2 Axes>"
      ]
     },
     "metadata": {
      "needs_background": "light"
     },
     "output_type": "display_data"
    }
   ],
   "source": [
    "fig, axes = plt.subplots(nrows=2,ncols=1)\n",
    "pokemons.plot(kind = \"hist\",y = \"Attack\",bins = 50, ax = axes[0])\n",
    "pokemons.plot(kind = \"hist\",y = \"Defense\",bins = 50,ax = axes[1])\n",
    "\n",
    "plt.show()"
   ]
  },
  {
   "cell_type": "markdown",
   "metadata": {},
   "source": [
    "График зависимости между атакой и защитой"
   ]
  },
  {
   "cell_type": "code",
   "execution_count": 69,
   "metadata": {},
   "outputs": [
    {
     "data": {
      "text/plain": [
       "Text(0.5, 1.0, 'Attack/Defense Scatter Plot')"
      ]
     },
     "execution_count": 69,
     "metadata": {},
     "output_type": "execute_result"
    },
    {
     "data": {
      "image/png": "[encoded data removed]",
      "text/plain": [
       "<Figure size 432x288 with 1 Axes>"
      ]
     },
     "metadata": {
      "needs_background": "light"
     },
     "output_type": "display_data"
    }
   ],
   "source": [
    "# Scatter Plot \n",
    "# x = attack, y = defense\n",
    "pokemons.plot(kind='scatter', x='Attack', y='Defense',alpha = 0.5,color = 'red')\n",
    "plt.xlabel('Attack')              # label = name of label\n",
    "plt.ylabel('Defence')\n",
    "plt.title('Attack/Defense Scatter Plot')       "
   ]
  },
  {
   "cell_type": "markdown",
   "metadata": {},
   "source": [
    "Функция для получения данных покемона по его имени (упростит работу)"
   ]
  },
  {
   "cell_type": "code",
   "execution_count": 70,
   "metadata": {},
   "outputs": [],
   "source": [
    "def get_pokemon_by_name(pokemon_name):\n",
    "    return pokemons[pokemons['Name'] == pokemon_name]"
   ]
  },
  {
   "cell_type": "markdown",
   "metadata": {},
   "source": [
    "## Создание новых признаков (feature engineering)"
   ]
  },
  {
   "cell_type": "markdown",
   "metadata": {},
   "source": [
    "### Количество побед и поражений"
   ]
  },
  {
   "cell_type": "markdown",
   "metadata": {},
   "source": [
    "Добавим в информацию о покемонах количество побед и поражений"
   ]
  },
  {
   "cell_type": "code",
   "execution_count": 71,
   "metadata": {},
   "outputs": [],
   "source": [
    "# Функция для получения количества побед для определенного покемона\n",
    "def get_pokemon_wins(pokemon_name):\n",
    "    index = get_pokemon_by_name(pokemon_name).index.item()\n",
    "    return len(combats[combats['Winner']==index])"
   ]
  },
  {
   "cell_type": "code",
   "execution_count": 72,
   "metadata": {},
   "outputs": [],
   "source": [
    "def get_pokemon_loses(pokemon_name):\n",
    "    index = get_pokemon_by_name(pokemon_name).index.item()\n",
    "    pokemon_combats = combats[(combats['First_pokemon'] == index) | (combats['Second_pokemon'] == index)]\n",
    "    pokemons_loses = len(pokemon_combats[pokemon_combats['Winner']!=index])\n",
    "    return pokemons_loses"
   ]
  },
  {
   "cell_type": "markdown",
   "metadata": {},
   "source": [
    "Проверим функции"
   ]
  },
  {
   "cell_type": "code",
   "execution_count": 73,
   "metadata": {},
   "outputs": [
    {
     "data": {
      "text/plain": [
       "93"
      ]
     },
     "execution_count": 73,
     "metadata": {},
     "output_type": "execute_result"
    }
   ],
   "source": [
    "get_pokemon_wins('Pikachu')"
   ]
  },
  {
   "cell_type": "code",
   "execution_count": 74,
   "metadata": {},
   "outputs": [
    {
     "data": {
      "text/plain": [
       "43"
      ]
     },
     "execution_count": 74,
     "metadata": {},
     "output_type": "execute_result"
    }
   ],
   "source": [
    "get_pokemon_loses('Pikachu')"
   ]
  },
  {
   "cell_type": "code",
   "execution_count": 75,
   "metadata": {},
   "outputs": [],
   "source": [
    "pokemons['Wins_count'] = pokemons.apply(lambda row: get_pokemon_wins(row['Name']), axis=1)\n",
    "pokemons['Loses_count'] = pokemons.apply(lambda row: get_pokemon_loses(row['Name']), axis=1)"
   ]
  },
  {
   "cell_type": "markdown",
   "metadata": {},
   "source": [
    "#### ТОП-10 покемонов по победам:"
   ]
  },
  {
   "cell_type": "code",
   "execution_count": 76,
   "metadata": {},
   "outputs": [
    {
     "name": "stdout",
     "output_type": "stream",
     "text": [
      "Mewtwo\n",
      "Aerodactyl\n",
      "Infernape\n",
      "Jirachi\n",
      "Slaking\n",
      "Deoxys Speed Forme\n",
      "Mega Absol\n",
      "Murkrow\n",
      "Mega Houndoom\n",
      "Mega Aerodactyl\n"
     ]
    }
   ],
   "source": [
    "for pokemon in list(pokemons.sort_values(by=['Wins_count'], ascending=False)['Name'][:10]):\n",
    "    print(pokemon)"
   ]
  },
  {
   "cell_type": "markdown",
   "metadata": {},
   "source": [
    "### Лучший покемон - Mewtwo!"
   ]
  },
  {
   "cell_type": "markdown",
   "metadata": {},
   "source": [
    "![title](./images/mewtwo.png)"
   ]
  },
  {
   "cell_type": "markdown",
   "metadata": {},
   "source": [
    "### Объединяем наборы данных"
   ]
  },
  {
   "cell_type": "markdown",
   "metadata": {},
   "source": [
    "Удалим из информации о битвах все битвы, в которых участвовали покемоны, не присутствующие в нашем наборе покемонов"
   ]
  },
  {
   "cell_type": "code",
   "execution_count": 77,
   "metadata": {},
   "outputs": [],
   "source": [
    "indexes = list(pokemons.index)\n",
    "\n",
    "combats = combats[(combats['First_pokemon'].isin(indexes)) & (combats['Second_pokemon'].isin(indexes))]"
   ]
  },
  {
   "cell_type": "code",
   "execution_count": 78,
   "metadata": {},
   "outputs": [],
   "source": [
    "pokemon_data = list(pokemons.columns)"
   ]
  },
  {
   "cell_type": "code",
   "execution_count": 79,
   "metadata": {},
   "outputs": [],
   "source": [
    "# Функция для получения определенного параметра покемона по его номеру\n",
    "def get_feature_by_index(index, feature):\n",
    "    pokemon = pokemons.loc[index]\n",
    "    return pokemon[feature]"
   ]
  },
  {
   "cell_type": "code",
   "execution_count": 80,
   "metadata": {},
   "outputs": [
    {
     "data": {
      "text/plain": [
       "'Bulbasaur'"
      ]
     },
     "execution_count": 80,
     "metadata": {},
     "output_type": "execute_result"
    }
   ],
   "source": [
    "get_feature_by_index(1, 'Name')"
   ]
  },
  {
   "cell_type": "markdown",
   "metadata": {},
   "source": [
    "**ATTENTION!!** Long calculations!"
   ]
  },
  {
   "cell_type": "code",
   "execution_count": 81,
   "metadata": {},
   "outputs": [],
   "source": [
    "for column in pokemon_data:\n",
    "    combats['pokemon1_'+column] = combats.apply(lambda row: get_feature_by_index(row['First_pokemon'], column), axis=1)\n",
    "    combats['pokemon2_'+column] = combats.apply(lambda row: get_feature_by_index(row['Second_pokemon'], column), axis=1)"
   ]
  },
  {
   "cell_type": "code",
   "execution_count": 82,
   "metadata": {},
   "outputs": [],
   "source": [
    "combats.to_pickle('./combats_after_merge.pkl')\n",
    "pokemons.to_pickle('./pokemons_after_merge.pkl')"
   ]
  },
  {
   "cell_type": "code",
   "execution_count": 83,
   "metadata": {},
   "outputs": [],
   "source": [
    "combats = pd.read_pickle(\"./combats_after_merge.pkl\")\n",
    "pokemons = pd.read_pickle(\"./pokemons_after_merge.pkl\")"
   ]
  },
  {
   "cell_type": "markdown",
   "metadata": {},
   "source": [
    "### One-Hot encoding для типов покемонов"
   ]
  },
  {
   "cell_type": "code",
   "execution_count": 84,
   "metadata": {},
   "outputs": [
    {
     "data": {
      "text/plain": [
       "Index(['First_pokemon', 'Second_pokemon', 'Winner', 'pokemon1_Name',\n",
       "       'pokemon2_Name', 'pokemon1_Type 1', 'pokemon2_Type 1',\n",
       "       'pokemon1_Type 2', 'pokemon2_Type 2', 'pokemon1_HP', 'pokemon2_HP',\n",
       "       'pokemon1_Attack', 'pokemon2_Attack', 'pokemon1_Defense',\n",
       "       'pokemon2_Defense', 'pokemon1_Sp. Atk', 'pokemon2_Sp. Atk',\n",
       "       'pokemon1_Sp. Def', 'pokemon2_Sp. Def', 'pokemon1_Speed',\n",
       "       'pokemon2_Speed', 'pokemon1_Generation', 'pokemon2_Generation',\n",
       "       'pokemon1_Legendary', 'pokemon2_Legendary', 'pokemon1_Wins_count',\n",
       "       'pokemon2_Wins_count', 'pokemon1_Loses_count', 'pokemon2_Loses_count'],\n",
       "      dtype='object')"
      ]
     },
     "execution_count": 84,
     "metadata": {},
     "output_type": "execute_result"
    }
   ],
   "source": [
    "combats.columns"
   ]
  },
  {
   "cell_type": "code",
   "execution_count": 85,
   "metadata": {},
   "outputs": [],
   "source": [
    "combats = pd.get_dummies(combats, prefix='pokemon1_type1', columns=['pokemon1_Type 1'])\n",
    "combats = pd.get_dummies(combats, prefix='pokemon1_type2', columns=['pokemon1_Type 2'])\n",
    "combats = pd.get_dummies(combats, prefix='pokemon2_type1', columns=['pokemon2_Type 1'])\n",
    "combats = pd.get_dummies(combats, prefix='pokemon2_type2', columns=['pokemon2_Type 2'])\n",
    "\n",
    "# делаем то же самое для набора данных с покемонами\n",
    "pokemons = pd.get_dummies(pokemons, prefix='type1', columns=['Type 1'])\n",
    "pokemons = pd.get_dummies(pokemons, prefix='type2', columns=['Type 2'])"
   ]
  },
  {
   "cell_type": "code",
   "execution_count": 86,
   "metadata": {},
   "outputs": [],
   "source": [
    "combats.to_pickle('./combats_with_dummies.pkl')\n",
    "pokemons.to_pickle('./pokemons_with_dummies.pkl')"
   ]
  },
  {
   "cell_type": "code",
   "execution_count": 87,
   "metadata": {},
   "outputs": [],
   "source": [
    "combats = pd.read_pickle(\"./combats_with_dummies.pkl\")\n",
    "pokemons = pd.read_pickle(\"./pokemons_with_dummies.pkl\")"
   ]
  },
  {
   "cell_type": "markdown",
   "metadata": {},
   "source": [
    "### Генерируем новые фичи на основе разницы в старых"
   ]
  },
  {
   "cell_type": "code",
   "execution_count": 88,
   "metadata": {},
   "outputs": [],
   "source": [
    "combats['HP_diff'] = combats['pokemon1_HP'].sub(combats['pokemon2_HP'])\n",
    "combats = combats.drop(columns=['pokemon1_HP', 'pokemon2_HP'])\n",
    "\n",
    "combats['Attack_diff'] = combats['pokemon1_Attack'].sub(combats['pokemon2_Attack'])\n",
    "combats = combats.drop(columns=['pokemon1_Attack', 'pokemon2_Attack'])\n",
    "\n",
    "combats['Defence_diff'] = combats['pokemon1_Defense'].sub(combats['pokemon2_Defense'])\n",
    "combats = combats.drop(columns=['pokemon1_Defense', 'pokemon2_Defense'])\n",
    "\n",
    "combats['sp_atk_diff'] = combats['pokemon1_Sp. Atk'].sub(combats['pokemon2_Sp. Atk'])\n",
    "combats = combats.drop(columns=['pokemon1_Sp. Atk', 'pokemon2_Sp. Atk'])\n",
    "\n",
    "combats['sp_def_diff'] = combats['pokemon1_Sp. Def'].sub(combats['pokemon2_Sp. Def'])\n",
    "combats = combats.drop(columns=['pokemon1_Sp. Def', 'pokemon2_Sp. Def'])\n",
    "\n",
    "combats['speed_diff'] = combats['pokemon1_Speed'].sub(combats['pokemon2_Speed'])\n",
    "combats = combats.drop(columns=['pokemon1_Speed', 'pokemon2_Speed'])"
   ]
  },
  {
   "cell_type": "code",
   "execution_count": 89,
   "metadata": {},
   "outputs": [
    {
     "name": "stdout",
     "output_type": "stream",
     "text": [
      "<class 'pandas.core.frame.DataFrame'>\n",
      "Int64Index: 49892 entries, 0 to 49999\n",
      "Data columns (total 93 columns):\n",
      "First_pokemon              49892 non-null int64\n",
      "Second_pokemon             49892 non-null int64\n",
      "Winner                     49892 non-null int64\n",
      "pokemon1_Name              49892 non-null object\n",
      "pokemon2_Name              49892 non-null object\n",
      "pokemon1_Generation        49892 non-null int64\n",
      "pokemon2_Generation        49892 non-null int64\n",
      "pokemon1_Legendary         49892 non-null int64\n",
      "pokemon2_Legendary         49892 non-null int64\n",
      "pokemon1_Wins_count        49892 non-null int64\n",
      "pokemon2_Wins_count        49892 non-null int64\n",
      "pokemon1_Loses_count       49892 non-null int64\n",
      "pokemon2_Loses_count       49892 non-null int64\n",
      "pokemon1_type1_Bug         49892 non-null uint8\n",
      "pokemon1_type1_Dark        49892 non-null uint8\n",
      "pokemon1_type1_Dragon      49892 non-null uint8\n",
      "pokemon1_type1_Electric    49892 non-null uint8\n",
      "pokemon1_type1_Fairy       49892 non-null uint8\n",
      "pokemon1_type1_Fighting    49892 non-null uint8\n",
      "pokemon1_type1_Fire        49892 non-null uint8\n",
      "pokemon1_type1_Flying      49892 non-null uint8\n",
      "pokemon1_type1_Ghost       49892 non-null uint8\n",
      "pokemon1_type1_Grass       49892 non-null uint8\n",
      "pokemon1_type1_Ground      49892 non-null uint8\n",
      "pokemon1_type1_Ice         49892 non-null uint8\n",
      "pokemon1_type1_Normal      49892 non-null uint8\n",
      "pokemon1_type1_Poison      49892 non-null uint8\n",
      "pokemon1_type1_Psychic     49892 non-null uint8\n",
      "pokemon1_type1_Rock        49892 non-null uint8\n",
      "pokemon1_type1_Steel       49892 non-null uint8\n",
      "pokemon1_type1_Water       49892 non-null uint8\n",
      "pokemon1_type2_Bug         49892 non-null uint8\n",
      "pokemon1_type2_Dark        49892 non-null uint8\n",
      "pokemon1_type2_Dragon      49892 non-null uint8\n",
      "pokemon1_type2_Electric    49892 non-null uint8\n",
      "pokemon1_type2_Fairy       49892 non-null uint8\n",
      "pokemon1_type2_Fighting    49892 non-null uint8\n",
      "pokemon1_type2_Fire        49892 non-null uint8\n",
      "pokemon1_type2_Flying      49892 non-null uint8\n",
      "pokemon1_type2_Ghost       49892 non-null uint8\n",
      "pokemon1_type2_Grass       49892 non-null uint8\n",
      "pokemon1_type2_Ground      49892 non-null uint8\n",
      "pokemon1_type2_Ice         49892 non-null uint8\n",
      "pokemon1_type2_None        49892 non-null uint8\n",
      "pokemon1_type2_Normal      49892 non-null uint8\n",
      "pokemon1_type2_Poison      49892 non-null uint8\n",
      "pokemon1_type2_Psychic     49892 non-null uint8\n",
      "pokemon1_type2_Rock        49892 non-null uint8\n",
      "pokemon1_type2_Steel       49892 non-null uint8\n",
      "pokemon1_type2_Water       49892 non-null uint8\n",
      "pokemon2_type1_Bug         49892 non-null uint8\n",
      "pokemon2_type1_Dark        49892 non-null uint8\n",
      "pokemon2_type1_Dragon      49892 non-null uint8\n",
      "pokemon2_type1_Electric    49892 non-null uint8\n",
      "pokemon2_type1_Fairy       49892 non-null uint8\n",
      "pokemon2_type1_Fighting    49892 non-null uint8\n",
      "pokemon2_type1_Fire        49892 non-null uint8\n",
      "pokemon2_type1_Flying      49892 non-null uint8\n",
      "pokemon2_type1_Ghost       49892 non-null uint8\n",
      "pokemon2_type1_Grass       49892 non-null uint8\n",
      "pokemon2_type1_Ground      49892 non-null uint8\n",
      "pokemon2_type1_Ice         49892 non-null uint8\n",
      "pokemon2_type1_Normal      49892 non-null uint8\n",
      "pokemon2_type1_Poison      49892 non-null uint8\n",
      "pokemon2_type1_Psychic     49892 non-null uint8\n",
      "pokemon2_type1_Rock        49892 non-null uint8\n",
      "pokemon2_type1_Steel       49892 non-null uint8\n",
      "pokemon2_type1_Water       49892 non-null uint8\n",
      "pokemon2_type2_Bug         49892 non-null uint8\n",
      "pokemon2_type2_Dark        49892 non-null uint8\n",
      "pokemon2_type2_Dragon      49892 non-null uint8\n",
      "pokemon2_type2_Electric    49892 non-null uint8\n",
      "pokemon2_type2_Fairy       49892 non-null uint8\n",
      "pokemon2_type2_Fighting    49892 non-null uint8\n",
      "pokemon2_type2_Fire        49892 non-null uint8\n",
      "pokemon2_type2_Flying      49892 non-null uint8\n",
      "pokemon2_type2_Ghost       49892 non-null uint8\n",
      "pokemon2_type2_Grass       49892 non-null uint8\n",
      "pokemon2_type2_Ground      49892 non-null uint8\n",
      "pokemon2_type2_Ice         49892 non-null uint8\n",
      "pokemon2_type2_None        49892 non-null uint8\n",
      "pokemon2_type2_Normal      49892 non-null uint8\n",
      "pokemon2_type2_Poison      49892 non-null uint8\n",
      "pokemon2_type2_Psychic     49892 non-null uint8\n",
      "pokemon2_type2_Rock        49892 non-null uint8\n",
      "pokemon2_type2_Steel       49892 non-null uint8\n",
      "pokemon2_type2_Water       49892 non-null uint8\n",
      "HP_diff                    49892 non-null int64\n",
      "Attack_diff                49892 non-null int64\n",
      "Defence_diff               49892 non-null int64\n",
      "sp_atk_diff                49892 non-null int64\n",
      "sp_def_diff                49892 non-null int64\n",
      "speed_diff                 49892 non-null int64\n",
      "dtypes: int64(17), object(2), uint8(74)\n",
      "memory usage: 10.8+ MB\n"
     ]
    }
   ],
   "source": [
    "combats.info()"
   ]
  },
  {
   "cell_type": "markdown",
   "metadata": {},
   "source": [
    "### Изменяем целевую переменную"
   ]
  },
  {
   "cell_type": "code",
   "execution_count": 90,
   "metadata": {},
   "outputs": [
    {
     "name": "stderr",
     "output_type": "stream",
     "text": [
      "c:\\users\\anton.krautsevich\\appdata\\local\\programs\\python\\python37-32\\lib\\site-packages\\ipykernel_launcher.py:1: SettingWithCopyWarning: \n",
      "A value is trying to be set on a copy of a slice from a DataFrame\n",
      "\n",
      "See the caveats in the documentation: http://pandas.pydata.org/pandas-docs/stable/indexing.html#indexing-view-versus-copy\n",
      "  \"\"\"Entry point for launching an IPython kernel.\n",
      "c:\\users\\anton.krautsevich\\appdata\\local\\programs\\python\\python37-32\\lib\\site-packages\\ipykernel_launcher.py:2: SettingWithCopyWarning: \n",
      "A value is trying to be set on a copy of a slice from a DataFrame\n",
      "\n",
      "See the caveats in the documentation: http://pandas.pydata.org/pandas-docs/stable/indexing.html#indexing-view-versus-copy\n",
      "  \n"
     ]
    }
   ],
   "source": [
    "combats.Winner[combats.Winner == combats.First_pokemon] = 0\n",
    "combats.Winner[combats.Winner == combats.Second_pokemon] = 1"
   ]
  },
  {
   "cell_type": "markdown",
   "metadata": {},
   "source": [
    "### Создаем датасет для тренировки, удаляя ненужные признаки"
   ]
  },
  {
   "cell_type": "code",
   "execution_count": 96,
   "metadata": {},
   "outputs": [],
   "source": [
    "train_dataset = combats.drop(columns=[\n",
    "    'First_pokemon', \n",
    "    'Second_pokemon',\n",
    "    'pokemon1_Name',\n",
    "    'pokemon2_Name'\n",
    "])"
   ]
  },
  {
   "cell_type": "markdown",
   "metadata": {},
   "source": [
    "# Создание, обучение и тестирование модели"
   ]
  },
  {
   "cell_type": "markdown",
   "metadata": {},
   "source": [
    "### Делим данные на тестовые и тренировочные"
   ]
  },
  {
   "cell_type": "code",
   "execution_count": 97,
   "metadata": {},
   "outputs": [],
   "source": [
    "y_train_full = train_dataset['Winner']\n",
    "x_train_full = train_dataset.drop('Winner', axis=1)"
   ]
  },
  {
   "cell_type": "code",
   "execution_count": 98,
   "metadata": {},
   "outputs": [],
   "source": [
    "x_train, x_cv, y_train, y_cv = train_test_split(x_train_full, y_train_full, test_size=0.25, random_state=42)"
   ]
  },
  {
   "cell_type": "markdown",
   "metadata": {},
   "source": [
    "## Выбираем модель"
   ]
  },
  {
   "cell_type": "code",
   "execution_count": 99,
   "metadata": {},
   "outputs": [
    {
     "name": "stderr",
     "output_type": "stream",
     "text": [
      "c:\\users\\anton.krautsevich\\appdata\\local\\programs\\python\\python37-32\\lib\\site-packages\\sklearn\\linear_model\\logistic.py:433: FutureWarning: Default solver will be changed to 'lbfgs' in 0.22. Specify a solver to silence this warning.\n",
      "  FutureWarning)\n"
     ]
    },
    {
     "name": "stdout",
     "output_type": "stream",
     "text": [
      "Accuracy of log reg: 0.8935300248536839\n",
      "Accuracy of naive bayes: 0.7587589192656137\n",
      "Accuracy of random forest: 0.961196183756915\n",
      "Accuracy of knn: 0.905796520484246\n"
     ]
    },
    {
     "name": "stderr",
     "output_type": "stream",
     "text": [
      "c:\\users\\anton.krautsevich\\appdata\\local\\programs\\python\\python37-32\\lib\\site-packages\\sklearn\\svm\\base.py:931: ConvergenceWarning: Liblinear failed to converge, increase the number of iterations.\n",
      "  \"the number of iterations.\", ConvergenceWarning)\n"
     ]
    },
    {
     "name": "stdout",
     "output_type": "stream",
     "text": [
      "Accuracy of linear svc: 0.7541890483444239\n",
      "Accuracy of ada boost: 0.9456425879900585\n",
      "Accuracy of gradient boosting: 0.9615168764531388\n",
      "Accuracy of CART: 0.9615168764531388\n"
     ]
    }
   ],
   "source": [
    "from sklearn.metrics import accuracy_score\n",
    "from sklearn.linear_model import LogisticRegression\n",
    "from sklearn.naive_bayes import GaussianNB\n",
    "from sklearn.ensemble import RandomForestClassifier, AdaBoostClassifier, GradientBoostingClassifier\n",
    "from sklearn.neighbors import KNeighborsClassifier\n",
    "from sklearn.svm import LinearSVC\n",
    "from sklearn.tree import DecisionTreeClassifier\n",
    "\n",
    "clf_dict = {'log reg': LogisticRegression(), \n",
    "            'naive bayes': GaussianNB(), \n",
    "            'random forest': RandomForestClassifier(n_estimators=100),\n",
    "            'knn': KNeighborsClassifier(),\n",
    "            'linear svc': LinearSVC(),\n",
    "            'ada boost': AdaBoostClassifier(n_estimators=100),\n",
    "            'gradient boosting': GradientBoostingClassifier(n_estimators=100),\n",
    "            'CART': DecisionTreeClassifier()}\n",
    "\n",
    "for name, clf in clf_dict.items():\n",
    "    model = clf.fit(x_train, y_train)\n",
    "    pred = model.predict(x_cv)\n",
    "    print('Accuracy of {}:'.format(name), accuracy_score(pred, y_cv))"
   ]
  },
  {
   "cell_type": "markdown",
   "metadata": {},
   "source": [
    "### Лучшая модель - градиентный бустинг"
   ]
  },
  {
   "cell_type": "markdown",
   "metadata": {},
   "source": [
    "## Обучаем лучшую модель на полном наборе данных"
   ]
  },
  {
   "cell_type": "code",
   "execution_count": 101,
   "metadata": {},
   "outputs": [],
   "source": [
    "gboost = GradientBoostingClassifier(n_estimators=100)\n",
    "model = gboost.fit(x_train_full, y_train_full)"
   ]
  },
  {
   "cell_type": "markdown",
   "metadata": {},
   "source": [
    "Сохраним модель в файле для последующего использования"
   ]
  },
  {
   "cell_type": "code",
   "execution_count": 103,
   "metadata": {},
   "outputs": [],
   "source": [
    "pickle.dump(model, open('gboost.pkl', 'wb'))"
   ]
  },
  {
   "cell_type": "markdown",
   "metadata": {},
   "source": [
    "# Проверка работы модели"
   ]
  },
  {
   "cell_type": "markdown",
   "metadata": {},
   "source": [
    "#### Создадим функцию, которая будет принимать на вход имена двух покемонов, а на выходе выдавать победителя, основываясь на предсказании модели"
   ]
  },
  {
   "cell_type": "code",
   "execution_count": 144,
   "metadata": {},
   "outputs": [],
   "source": [
    "def predict_winner(pokemon1_name, pokemon2_name):\n",
    "    pokemon1 = get_pokemon_by_name(pokemon1_name).reset_index(drop=True)\n",
    "    pokemon2 = get_pokemon_by_name(pokemon2_name).reset_index(drop=True)\n",
    "    pokemon1 = pokemon1.add_prefix('pokemon1_')\n",
    "    pokemon2 = pokemon2.add_prefix('pokemon2_')\n",
    "    test_data = pd.concat([pokemon1, pokemon2], axis=1, sort=False).drop(columns=['pokemon1_Name','pokemon2_Name'])\n",
    "    test_data['HP_diff'] = test_data['pokemon1_HP'].sub(test_data['pokemon2_HP'])\n",
    "    test_data = test_data.drop(columns=['pokemon1_HP', 'pokemon2_HP'])\n",
    "    test_data['Attack_diff'] = test_data['pokemon1_Attack'].sub(test_data['pokemon2_Attack'])\n",
    "    test_data = test_data.drop(columns=['pokemon1_Attack', 'pokemon2_Attack'])\n",
    "    test_data['Defence_diff'] = test_data['pokemon1_Defense'].sub(test_data['pokemon2_Defense'])\n",
    "    test_data = test_data.drop(columns=['pokemon1_Defense', 'pokemon2_Defense'])\n",
    "    test_data['sp_atk_diff'] = test_data['pokemon1_Sp. Atk'].sub(test_data['pokemon2_Sp. Atk'])\n",
    "    test_data = test_data.drop(columns=['pokemon1_Sp. Atk', 'pokemon2_Sp. Atk'])\n",
    "    test_data['sp_def_diff'] = test_data['pokemon1_Sp. Def'].sub(test_data['pokemon2_Sp. Def'])\n",
    "    test_data = test_data.drop(columns=['pokemon1_Sp. Def', 'pokemon2_Sp. Def'])\n",
    "    test_data['speed_diff'] = test_data['pokemon1_Speed'].sub(test_data['pokemon2_Speed'])\n",
    "    test_data = test_data.drop(columns=['pokemon1_Speed', 'pokemon2_Speed'])\n",
    "    result = model.predict_proba(test_data)\n",
    "    return result"
   ]
  },
  {
   "cell_type": "code",
   "execution_count": 146,
   "metadata": {},
   "outputs": [
    {
     "data": {
      "text/plain": [
       "array([[0.05963237, 0.94036763]])"
      ]
     },
     "execution_count": 146,
     "metadata": {},
     "output_type": "execute_result"
    }
   ],
   "source": [
    "predict_winner('Pikachu', 'Mewtwo')"
   ]
  }
 ],
 "metadata": {
  "kernelspec": {
   "display_name": "Python 3",
   "language": "python",
   "name": "python3"
  },
  "language_info": {
   "codemirror_mode": {
    "name": "ipython",
    "version": 3
   },
   "file_extension": ".py",
   "mimetype": "text/x-python",
   "name": "python",
   "nbconvert_exporter": "python",
   "pygments_lexer": "ipython3",
   "version": "3.7.2"
  }
 },
 "nbformat": 4,
 "nbformat_minor": 2
}
